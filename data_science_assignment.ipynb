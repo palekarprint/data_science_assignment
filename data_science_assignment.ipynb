{
 "cells": [
  {
   "attachments": {},
   "cell_type": "markdown",
   "metadata": {},
   "source": [
    "    Question 1:      \n",
    "    Write a program that takes a string as input, and counts the frequency of each word in the string, there might\n",
    "    be repeated characters in the string. Your task is to find the highest frequency and returns the length of the\n",
    "    highest-frequency word.\n",
    "    Note - You have to write at least 2 additional test cases in which your program will run successfully and provide\n",
    "    an explanation for the same.\n",
    "    Example input - string = “write write write all the number from from from 1 to 100”\n",
    "    Example output - 5\n",
    "    Explanation - From the given string we can note that the most frequent words are “write” and “from” and\n",
    "    the maximum value of both the values is “write” and its corresponding length is 5"
   ]
  },
  {
   "cell_type": "code",
   "execution_count": 76,
   "metadata": {},
   "outputs": [
    {
     "name": "stdout",
     "output_type": "stream",
     "text": [
      "['write', 'from']\n"
     ]
    },
    {
     "data": {
      "text/plain": [
       "5"
      ]
     },
     "execution_count": 76,
     "metadata": {},
     "output_type": "execute_result"
    }
   ],
   "source": [
    "string = 'write write write all the number from from from 1 to 100'\n",
    "def count_frequency(string):\n",
    "    str_list = list(string.split(\" \"))\n",
    "    string_dict = {}\n",
    "    for i in range (len(str_list)):\n",
    "        wor_count = 0\n",
    "        for j in range(len(str_list)):\n",
    "            if str_list[i] == str_list[j]:\n",
    "                wor_count = wor_count + 1\n",
    "        string_dict[str_list[i]] = wor_count\n",
    "\n",
    "    max_value_keys = [k for k, v in string_dict.items() if v == max(string_dict.values())]\n",
    "    print(max_value_keys)\n",
    "\n",
    "    len_max_keys = [len(i) for i in max_value_keys]\n",
    "    max_len = max(len_max_keys)\n",
    "    index = len_max_keys.index(max_len)\n",
    "    return len(max_value_keys[index])\n",
    "\n",
    "count_frequency(string)"
   ]
  },
  {
   "attachments": {},
   "cell_type": "markdown",
   "metadata": {},
   "source": [
    "   Question 2: \n",
    "   Consider a string to be valid if all characters of the string appear the same number of times. It is also valid if\n",
    "he can remove just one character at the index in the string, and the remaining characters will occur the same\n",
    "number of times. Given a string, determine if it is valid. If so, return YES , otherwise return NO .\n",
    "Note - You have to write at least 2 additional test cases in which your program will run successfully and provide\n",
    "an explanation for the same.\n",
    "Example input 1 - s = “abc”. This is a valid string because frequencies are { “a”: 1, “b”: 1, “c”: 1 }\n",
    "Example output 1- YES\n",
    "Example input 2 - s “abcc”. This string is not valid as we can remove only 1 occurrence of “c”. That leaves\n",
    "character frequencies of { “a”: 1, “b”: 1 , “c”: 2 }\n",
    "Example output 2 - NO"
   ]
  },
  {
   "cell_type": "code",
   "execution_count": 104,
   "metadata": {},
   "outputs": [
    {
     "data": {
      "text/plain": [
       "'YES'"
      ]
     },
     "execution_count": 104,
     "metadata": {},
     "output_type": "execute_result"
    }
   ],
   "source": [
    "string = 'abcabcabc'\n",
    "def validate_string(s):\n",
    "    str_list = list(s)\n",
    "    string_dict = {}\n",
    "    for i in range (len(str_list)):\n",
    "        wor_count = 0\n",
    "        for j in range(len(str_list)):\n",
    "            if str_list[i] == str_list[j]:\n",
    "                wor_count = wor_count + 1\n",
    "        string_dict[str_list[i]] = wor_count\n",
    "    if (len(set(string_dict.values()))==1):\n",
    "        return \"YES\"\n",
    "    else:\n",
    "        return \"NO\"\n",
    "\n",
    "validate_string(string)\n",
    "\n"
   ]
  },
  {
   "attachments": {},
   "cell_type": "markdown",
   "metadata": {},
   "source": [
    "Question 3 :"
   ]
  },
  {
   "cell_type": "code",
   "execution_count": 1,
   "metadata": {},
   "outputs": [
    {
     "ename": "OSError",
     "evalue": "[Errno 22] Invalid argument: 'https://raw.githubusercontent.com/Biuni/PokemonGO-Pokedex/master/pokedex.json'",
     "output_type": "error",
     "traceback": [
      "\u001b[1;31m---------------------------------------------------------------------------\u001b[0m",
      "\u001b[1;31mOSError\u001b[0m                                   Traceback (most recent call last)",
      "\u001b[1;32me:\\iNeuron_Data_Science\\Data Science Assignment\\data_science_assignment.ipynb Cell 6\u001b[0m in \u001b[0;36m<cell line: 8>\u001b[1;34m()\u001b[0m\n\u001b[0;32m      <a href='vscode-notebook-cell:/e%3A/iNeuron_Data_Science/Data%20Science%20Assignment/data_science_assignment.ipynb#W5sZmlsZQ%3D%3D?line=4'>5</a>\u001b[0m \u001b[39mimport\u001b[39;00m \u001b[39mjson\u001b[39;00m\n\u001b[0;32m      <a href='vscode-notebook-cell:/e%3A/iNeuron_Data_Science/Data%20Science%20Assignment/data_science_assignment.ipynb#W5sZmlsZQ%3D%3D?line=6'>7</a>\u001b[0m \u001b[39m# Opening JSON file\u001b[39;00m\n\u001b[1;32m----> <a href='vscode-notebook-cell:/e%3A/iNeuron_Data_Science/Data%20Science%20Assignment/data_science_assignment.ipynb#W5sZmlsZQ%3D%3D?line=7'>8</a>\u001b[0m f \u001b[39m=\u001b[39m \u001b[39mopen\u001b[39;49m(\u001b[39m'\u001b[39;49m\u001b[39mhttps://raw.githubusercontent.com/Biuni/PokemonGO-Pokedex/master/pokedex.json\u001b[39;49m\u001b[39m'\u001b[39;49m)\n\u001b[0;32m     <a href='vscode-notebook-cell:/e%3A/iNeuron_Data_Science/Data%20Science%20Assignment/data_science_assignment.ipynb#W5sZmlsZQ%3D%3D?line=9'>10</a>\u001b[0m \u001b[39m# returns JSON object as \u001b[39;00m\n\u001b[0;32m     <a href='vscode-notebook-cell:/e%3A/iNeuron_Data_Science/Data%20Science%20Assignment/data_science_assignment.ipynb#W5sZmlsZQ%3D%3D?line=10'>11</a>\u001b[0m \u001b[39m# a dictionary\u001b[39;00m\n\u001b[0;32m     <a href='vscode-notebook-cell:/e%3A/iNeuron_Data_Science/Data%20Science%20Assignment/data_science_assignment.ipynb#W5sZmlsZQ%3D%3D?line=11'>12</a>\u001b[0m data \u001b[39m=\u001b[39m json\u001b[39m.\u001b[39mload(f)\n",
      "\u001b[1;31mOSError\u001b[0m: [Errno 22] Invalid argument: 'https://raw.githubusercontent.com/Biuni/PokemonGO-Pokedex/master/pokedex.json'"
     ]
    }
   ],
   "source": [
    "# Python program to read\n",
    "# json file\n",
    "  \n",
    "  \n",
    "import json\n",
    "  \n",
    "# Opening JSON file\n",
    "f = open('https://raw.githubusercontent.com/Biuni/PokemonGO-Pokedex/master/pokedex.json')\n",
    "  \n",
    "# returns JSON object as \n",
    "# a dictionary\n",
    "data = json.load(f)\n",
    "  \n",
    "# Iterating through the json\n",
    "# list\n",
    "for i in data['emp_details']:\n",
    "    print(i)\n",
    "  \n",
    "# Closing file\n",
    "f.close()"
   ]
  },
  {
   "cell_type": "code",
   "execution_count": null,
   "metadata": {},
   "outputs": [],
   "source": []
  }
 ],
 "metadata": {
  "kernelspec": {
   "display_name": "base",
   "language": "python",
   "name": "python3"
  },
  "language_info": {
   "codemirror_mode": {
    "name": "ipython",
    "version": 3
   },
   "file_extension": ".py",
   "mimetype": "text/x-python",
   "name": "python",
   "nbconvert_exporter": "python",
   "pygments_lexer": "ipython3",
   "version": "3.9.12"
  },
  "orig_nbformat": 4
 },
 "nbformat": 4,
 "nbformat_minor": 2
}
